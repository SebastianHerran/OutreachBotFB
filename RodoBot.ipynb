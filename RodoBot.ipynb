{
 "cells": [
  {
   "cell_type": "code",
   "execution_count": 1,
   "id": "97676641-6aa9-4b58-a77c-c02e046e6c2c",
   "metadata": {},
   "outputs": [],
   "source": [
    "import requests\n",
    "from bs4 import BeautifulSoup\n",
    "import pandas as pd\n",
    "import re\n",
    "from selenium import webdriver\n",
    "from selenium.webdriver.common.keys import Keys\n",
    "from selenium.webdriver.common.action_chains import ActionChains\n",
    "from selenium.webdriver.support.ui import WebDriverWait\n",
    "from selenium.webdriver.support import expected_conditions as EC\n",
    "from selenium.webdriver.common.by import By\n",
    "from selenium.webdriver.remote.webelement import WebElement\n",
    "from selenium.webdriver.chrome.options import Options\n",
    "import time\n",
    "import os"
   ]
  },
  {
   "cell_type": "code",
   "execution_count": 20,
   "id": "a2a39f29-2080-4c2c-9706-42d15201c84f",
   "metadata": {},
   "outputs": [],
   "source": [
    "urls = ['https://www.quillmag.com/2021/03/22/10-with-dujuan-mccoy/',\n",
    "        'https://sdbn.org/events/2020/10/19/sdee-november-happy-hour-nov-19-2020/',\n",
    "        'https://www.opencompanyhongkong.com/fintech-investments-in-hong-kong-on-the-rise','https://www.relectrify.com/newsblog/relectrify-attracts-global-syndicate-led-by-energy-innovation-capital-to-fund-growth'\n",
    ",'https://startupsd.org/eir-program/'\n",
    ",'https://www.cherrycreekfashion.com/issue/shana-colbin-dunn-true-kismet-luna-and-jasper'\n",
    ",'https://euromed-economists.org/investmed-call-for-trainees-in-sustainable-business-management-in-egypt-lebanon-and-tunisia/'\n",
    ",'https://newcastlestartupweek.com/5starfocus/'\n",
    ",'https://locumstory.com/spotlight/webinar-finding-life-balance-with-locums/'\n",
    ",'https://www.specialarabia.com/en/details/BEAUTY/Huda-Kattan-Is-Making-Feminine-Care-Smart-and-Sexy'\n",
    ",'https://vino-joy.com/2021/07/08/chinas-vivino-toasts-deal-with-wechat/'\n",
    ",'https://futurefamilyoffice.net/news/financial-group-launches-global-family-office/'\n",
    ",'https://industrieafrica.com/collections/okapi'\n",
    ",'https://www.mobilemarketingreads.com/duolingo-raises-35-million-at-a-2-4-billion-valuation/'\n",
    ",'https://www.totesavvy.com/blogs/inside-totesavvy/whats-in-my-bag-denitra-burnett']"
   ]
  },
  {
   "cell_type": "code",
   "execution_count": 13,
   "id": "c260d5ef-325a-4711-9f0a-9f67b8bd9208",
   "metadata": {},
   "outputs": [],
   "source": [
    "def selenium_extract_face_link(url):\n",
    "    global driver \n",
    "    driver = webdriver.Chrome()\n",
    "    driver.get(url)\n",
    "    WebDriverWait(driver, 4).until(EC.presence_of_element_located((By.CSS_SELECTOR, facebook_css)))\n",
    "    empresa = driver.page_source\n",
    "    soup_emp = BeautifulSoup(empresa, 'lxml')\n",
    "    return soup_emp"
   ]
  },
  {
   "cell_type": "code",
   "execution_count": 26,
   "id": "1c0d0c86-cb18-41cd-8821-7105f5eec2d7",
   "metadata": {},
   "outputs": [],
   "source": [
    "def RodoBot_extract_fbs(urls):   \n",
    "    feisbucs=[]\n",
    "    facebook_css = '[href*=\"facebook.com/\"]:not([href*=\"facebook.com/sharer\"])'\n",
    "    \n",
    "    for url in urls:\n",
    "        print(url)\n",
    "        try:\n",
    "            empresa = requests.get(url)\n",
    "            soup_emp = BeautifulSoup(empresa.content, 'lxml')\n",
    "            face_link= soup_emp.select(facebook_css)\n",
    "            \n",
    "            if len(face_link) > 0: feisbucs.append(face_link[0]['href'])\n",
    "            else: raise Exception(\"No Facebook link found\")\n",
    "        except:\n",
    "            try:\n",
    "                face_link= selenium_extract_face_link(url).select(facebook_css) \n",
    "                feisbucs.append(face_link[0]['href'])\n",
    "                driver.quit()\n",
    "            except:\n",
    "                driver.quit()\n",
    "                try:\n",
    "                        face_link= selenium_extract_face_link(url).select(facebook_css) \n",
    "                        feisbucs.append(face_link[0]['href'])\n",
    "                except:\n",
    "                        feisbucs.append('')\n",
    "                finally:\n",
    "                    driver.quit()\n",
    "    return feisbucs"
   ]
  },
  {
   "cell_type": "code",
   "execution_count": 27,
   "id": "9b93d35d-3ec9-4457-b9a3-e09ea417d451",
   "metadata": {
    "tags": []
   },
   "outputs": [
    {
     "name": "stdout",
     "output_type": "stream",
     "text": [
      "https://www.quillmag.com/2021/03/22/10-with-dujuan-mccoy/\n",
      "https://sdbn.org/events/2020/10/19/sdee-november-happy-hour-nov-19-2020/\n",
      "https://www.opencompanyhongkong.com/fintech-investments-in-hong-kong-on-the-rise\n",
      "https://www.relectrify.com/newsblog/relectrify-attracts-global-syndicate-led-by-energy-innovation-capital-to-fund-growth\n",
      "https://startupsd.org/eir-program/\n",
      "https://www.cherrycreekfashion.com/issue/shana-colbin-dunn-true-kismet-luna-and-jasper\n",
      "https://euromed-economists.org/investmed-call-for-trainees-in-sustainable-business-management-in-egypt-lebanon-and-tunisia/\n",
      "https://newcastlestartupweek.com/5starfocus/\n",
      "https://locumstory.com/spotlight/webinar-finding-life-balance-with-locums/\n",
      "https://www.specialarabia.com/en/details/BEAUTY/Huda-Kattan-Is-Making-Feminine-Care-Smart-and-Sexy\n",
      "https://vino-joy.com/2021/07/08/chinas-vivino-toasts-deal-with-wechat/\n",
      "https://futurefamilyoffice.net/news/financial-group-launches-global-family-office/\n",
      "https://industrieafrica.com/collections/okapi\n",
      "https://www.mobilemarketingreads.com/duolingo-raises-35-million-at-a-2-4-billion-valuation/\n",
      "https://www.totesavvy.com/blogs/inside-totesavvy/whats-in-my-bag-denitra-burnett\n"
     ]
    },
    {
     "data": {
      "text/plain": [
       "['https://www.facebook.com/pages/Society-of-Professional-Journalists/166414942968',\n",
       " '',\n",
       " 'https://www.facebook.com/pages/Lawyers-in-Hong-Kong/778584812178154',\n",
       " 'https://www.facebook.com/relectrify/',\n",
       " 'https://facebook.com/startupsd',\n",
       " '',\n",
       " 'https://www.facebook.com/EMEA.org/',\n",
       " 'https://www.facebook.com/NewcastleStartupWeek/',\n",
       " 'https://www.facebook.com/locumstory/',\n",
       " 'https://www.facebook.com/SPECIAL-MAGAZINE-9992066780/',\n",
       " 'https://www.facebook.com/VinoJoyNews/',\n",
       " 'https://www.facebook.com/Future-111511173824711/',\n",
       " 'https://www.facebook.com/industrieafrica/',\n",
       " 'https://facebook.com/mobilemarketingreads',\n",
       " 'https://www.facebook.com/lifeinplaycompany']"
      ]
     },
     "execution_count": 27,
     "metadata": {},
     "output_type": "execute_result"
    }
   ],
   "source": [
    "feisbucs = RodoBot_extract_fbs(urls)\n",
    "feisbucs"
   ]
  },
  {
   "cell_type": "code",
   "execution_count": 28,
   "id": "c62f0132-f635-4081-93ff-336ba3fdb007",
   "metadata": {
    "tags": []
   },
   "outputs": [
    {
     "data": {
      "text/html": [
       "<div>\n",
       "<style scoped>\n",
       "    .dataframe tbody tr th:only-of-type {\n",
       "        vertical-align: middle;\n",
       "    }\n",
       "\n",
       "    .dataframe tbody tr th {\n",
       "        vertical-align: top;\n",
       "    }\n",
       "\n",
       "    .dataframe thead th {\n",
       "        text-align: right;\n",
       "    }\n",
       "</style>\n",
       "<table border=\"1\" class=\"dataframe\">\n",
       "  <thead>\n",
       "    <tr style=\"text-align: right;\">\n",
       "      <th></th>\n",
       "      <th>URL</th>\n",
       "      <th>Facebook</th>\n",
       "    </tr>\n",
       "  </thead>\n",
       "  <tbody>\n",
       "    <tr>\n",
       "      <th>0</th>\n",
       "      <td>https://www.quillmag.com/2021/03/22/10-with-du...</td>\n",
       "      <td>https://www.facebook.com/pages/Society-of-Prof...</td>\n",
       "    </tr>\n",
       "    <tr>\n",
       "      <th>1</th>\n",
       "      <td>https://sdbn.org/events/2020/10/19/sdee-novemb...</td>\n",
       "      <td></td>\n",
       "    </tr>\n",
       "    <tr>\n",
       "      <th>2</th>\n",
       "      <td>https://www.opencompanyhongkong.com/fintech-in...</td>\n",
       "      <td>https://www.facebook.com/pages/Lawyers-in-Hong...</td>\n",
       "    </tr>\n",
       "    <tr>\n",
       "      <th>3</th>\n",
       "      <td>https://www.relectrify.com/newsblog/relectrify...</td>\n",
       "      <td>https://www.facebook.com/relectrify/</td>\n",
       "    </tr>\n",
       "    <tr>\n",
       "      <th>4</th>\n",
       "      <td>https://startupsd.org/eir-program/</td>\n",
       "      <td>https://facebook.com/startupsd</td>\n",
       "    </tr>\n",
       "    <tr>\n",
       "      <th>5</th>\n",
       "      <td>https://www.cherrycreekfashion.com/issue/shana...</td>\n",
       "      <td></td>\n",
       "    </tr>\n",
       "    <tr>\n",
       "      <th>6</th>\n",
       "      <td>https://euromed-economists.org/investmed-call-...</td>\n",
       "      <td>https://www.facebook.com/EMEA.org/</td>\n",
       "    </tr>\n",
       "    <tr>\n",
       "      <th>7</th>\n",
       "      <td>https://newcastlestartupweek.com/5starfocus/</td>\n",
       "      <td>https://www.facebook.com/NewcastleStartupWeek/</td>\n",
       "    </tr>\n",
       "    <tr>\n",
       "      <th>8</th>\n",
       "      <td>https://locumstory.com/spotlight/webinar-findi...</td>\n",
       "      <td>https://www.facebook.com/locumstory/</td>\n",
       "    </tr>\n",
       "    <tr>\n",
       "      <th>9</th>\n",
       "      <td>https://www.specialarabia.com/en/details/BEAUT...</td>\n",
       "      <td>https://www.facebook.com/SPECIAL-MAGAZINE-9992...</td>\n",
       "    </tr>\n",
       "    <tr>\n",
       "      <th>10</th>\n",
       "      <td>https://vino-joy.com/2021/07/08/chinas-vivino-...</td>\n",
       "      <td>https://www.facebook.com/VinoJoyNews/</td>\n",
       "    </tr>\n",
       "    <tr>\n",
       "      <th>11</th>\n",
       "      <td>https://futurefamilyoffice.net/news/financial-...</td>\n",
       "      <td>https://www.facebook.com/Future-111511173824711/</td>\n",
       "    </tr>\n",
       "    <tr>\n",
       "      <th>12</th>\n",
       "      <td>https://industrieafrica.com/collections/okapi</td>\n",
       "      <td>https://www.facebook.com/industrieafrica/</td>\n",
       "    </tr>\n",
       "    <tr>\n",
       "      <th>13</th>\n",
       "      <td>https://www.mobilemarketingreads.com/duolingo-...</td>\n",
       "      <td>https://facebook.com/mobilemarketingreads</td>\n",
       "    </tr>\n",
       "    <tr>\n",
       "      <th>14</th>\n",
       "      <td>https://www.totesavvy.com/blogs/inside-totesav...</td>\n",
       "      <td>https://www.facebook.com/lifeinplaycompany</td>\n",
       "    </tr>\n",
       "  </tbody>\n",
       "</table>\n",
       "</div>"
      ],
      "text/plain": [
       "                                                  URL  \\\n",
       "0   https://www.quillmag.com/2021/03/22/10-with-du...   \n",
       "1   https://sdbn.org/events/2020/10/19/sdee-novemb...   \n",
       "2   https://www.opencompanyhongkong.com/fintech-in...   \n",
       "3   https://www.relectrify.com/newsblog/relectrify...   \n",
       "4                  https://startupsd.org/eir-program/   \n",
       "5   https://www.cherrycreekfashion.com/issue/shana...   \n",
       "6   https://euromed-economists.org/investmed-call-...   \n",
       "7        https://newcastlestartupweek.com/5starfocus/   \n",
       "8   https://locumstory.com/spotlight/webinar-findi...   \n",
       "9   https://www.specialarabia.com/en/details/BEAUT...   \n",
       "10  https://vino-joy.com/2021/07/08/chinas-vivino-...   \n",
       "11  https://futurefamilyoffice.net/news/financial-...   \n",
       "12      https://industrieafrica.com/collections/okapi   \n",
       "13  https://www.mobilemarketingreads.com/duolingo-...   \n",
       "14  https://www.totesavvy.com/blogs/inside-totesav...   \n",
       "\n",
       "                                             Facebook  \n",
       "0   https://www.facebook.com/pages/Society-of-Prof...  \n",
       "1                                                      \n",
       "2   https://www.facebook.com/pages/Lawyers-in-Hong...  \n",
       "3                https://www.facebook.com/relectrify/  \n",
       "4                      https://facebook.com/startupsd  \n",
       "5                                                      \n",
       "6                  https://www.facebook.com/EMEA.org/  \n",
       "7      https://www.facebook.com/NewcastleStartupWeek/  \n",
       "8                https://www.facebook.com/locumstory/  \n",
       "9   https://www.facebook.com/SPECIAL-MAGAZINE-9992...  \n",
       "10              https://www.facebook.com/VinoJoyNews/  \n",
       "11   https://www.facebook.com/Future-111511173824711/  \n",
       "12          https://www.facebook.com/industrieafrica/  \n",
       "13          https://facebook.com/mobilemarketingreads  \n",
       "14         https://www.facebook.com/lifeinplaycompany  "
      ]
     },
     "execution_count": 28,
     "metadata": {},
     "output_type": "execute_result"
    }
   ],
   "source": [
    "links = pd.DataFrame(zip(urls,feisbucs), columns=['URL','Facebook'])\n",
    "links"
   ]
  },
  {
   "cell_type": "markdown",
   "id": "ee075eaa-4150-4038-9656-d53c58c3e688",
   "metadata": {},
   "source": [
    "### Get email from facebook ###"
   ]
  },
  {
   "cell_type": "code",
   "execution_count": 27,
   "id": "021e65ed-2f60-4317-9dac-d26a16b09dbf",
   "metadata": {
    "tags": []
   },
   "outputs": [],
   "source": [
    "driver = webdriver.Chrome()\n",
    "driver.get('https://www.facebook.com/relectrify/')\n",
    "time.sleep(3)\n",
    "#driver.quit()"
   ]
  },
  {
   "cell_type": "code",
   "execution_count": 59,
   "id": "62504e95-787b-44eb-a5b6-a6a1ba4016fa",
   "metadata": {
    "tags": []
   },
   "outputs": [
    {
     "data": {
      "text/plain": [
       "'info@relectrify.com'"
      ]
     },
     "execution_count": 59,
     "metadata": {},
     "output_type": "execute_result"
    }
   ],
   "source": [
    "facebook_page = driver.page_source\n",
    "soup_facebook_page = BeautifulSoup(facebook_page, 'lxml')\n",
    "email_class = re.sub(' ','.','oajrlxb2 g5ia77u1 qu0x051f esr5mh6w e9989ue4 r7d6kgcz rq0escxv nhd2j8a9 nc684nl6 p7hjln8o kvgmc6g5 cxmmr5t8 oygrvhab hcukyx3x jb3vyjys rz4wbd8a qt6c0cv9 a8nywdso i1ao9s8h esuyzwwr f1sip0of lzcic4wl py34i1dx gpro0wi8')\n",
    "email_address = soup_facebook_page.select(f'a.{email_class}[href^=\"mailto:\"]')\n",
    "email_address[0].text"
   ]
  },
  {
   "cell_type": "code",
   "execution_count": 25,
   "id": "24878da2-6993-41d1-8cd8-d92d7fe396c5",
   "metadata": {
    "tags": []
   },
   "outputs": [
    {
     "data": {
      "text/plain": [
       "[<a href=\"https://www.facebook.com/lifeinplaycompany\" target=\"_blank\" title=\"ToteSavvy on Facebook\">\n",
       " <svg aria-hidden=\"true\" class=\"icon icon-facebook\" focusable=\"false\" role=\"presentation\" viewbox=\"0 0 32 32\"><path d=\"M18.56 31.36V17.28h4.48l.64-5.12h-5.12v-3.2c0-1.28.64-2.56 2.56-2.56h2.56V1.28H19.2c-3.84 0-7.04 2.56-7.04 7.04v3.84H7.68v5.12h4.48v14.08h6.4z\" fill=\"#444\"></path></svg>\n",
       " <span class=\"icon__fallback-text\">Facebook</span>\n",
       " </a>,\n",
       " <a href=\"https://www.facebook.com/lifeinplaycompany\" target=\"_blank\" title=\"ToteSavvy on Facebook\">\n",
       " <svg aria-hidden=\"true\" class=\"icon icon-facebook\" focusable=\"false\" role=\"presentation\" viewbox=\"0 0 32 32\"><path d=\"M18.56 31.36V17.28h4.48l.64-5.12h-5.12v-3.2c0-1.28.64-2.56 2.56-2.56h2.56V1.28H19.2c-3.84 0-7.04 2.56-7.04 7.04v3.84H7.68v5.12h4.48v14.08h6.4z\" fill=\"#444\"></path></svg>\n",
       " <span class=\"icon__fallback-text\">Facebook</span>\n",
       " </a>]"
      ]
     },
     "execution_count": 25,
     "metadata": {},
     "output_type": "execute_result"
    }
   ],
   "source": [
    "empresa = requests.get(urls[-1])\n",
    "soup_emp = BeautifulSoup(empresa.content, 'lxml')\n",
    "facebook_css = '[href*=\"facebook.com/\"]:not([href*=\"facebook.com/sharer\"])'\n",
    "face_link= soup_emp.select(facebook_css)\n",
    "face_link"
   ]
  },
  {
   "cell_type": "code",
   "execution_count": 4,
   "id": "0001def8-1cb3-4c87-9ef4-b209eb88682d",
   "metadata": {},
   "outputs": [],
   "source": [
    "user_data_path = os.path.dirname(os.path.abspath('__file__'))+'\\\\User_Data'\n",
    "Options().add_argument(f\"user-data-dir={user_data_path}\")"
   ]
  },
  {
   "cell_type": "code",
   "execution_count": 3,
   "id": "4e4ceed4-f17c-44bb-8c26-8844c71bc24f",
   "metadata": {},
   "outputs": [
    {
     "name": "stderr",
     "output_type": "stream",
     "text": [
      "C:\\Users\\sebas\\AppData\\Local\\Temp/ipykernel_9416/4040453641.py:1: DeprecationWarning: use options instead of chrome_options\n",
      "  driver = webdriver.Chrome(chrome_options=Options())\n"
     ]
    }
   ],
   "source": [
    "driver = webdriver.Chrome(chrome_options=Options())\n",
    "driver.get('https://facebook.com/startupsd')"
   ]
  }
 ],
 "metadata": {
  "kernelspec": {
   "display_name": "Python 3 (ipykernel)",
   "language": "python",
   "name": "python3"
  },
  "language_info": {
   "codemirror_mode": {
    "name": "ipython",
    "version": 3
   },
   "file_extension": ".py",
   "mimetype": "text/x-python",
   "name": "python",
   "nbconvert_exporter": "python",
   "pygments_lexer": "ipython3",
   "version": "3.9.7"
  }
 },
 "nbformat": 4,
 "nbformat_minor": 5
}
