{
 "cells": [
  {
   "cell_type": "code",
   "execution_count": 22,
   "id": "97676641-6aa9-4b58-a77c-c02e046e6c2c",
   "metadata": {},
   "outputs": [],
   "source": [
    "import requests\n",
    "from bs4 import BeautifulSoup\n",
    "import pandas as pd\n",
    "import re\n",
    "from selenium import webdriver\n",
    "from selenium.webdriver.common.keys import Keys\n",
    "from selenium.webdriver.common.action_chains import ActionChains\n",
    "from selenium.webdriver.support.ui import WebDriverWait\n",
    "from selenium.webdriver.support import expected_conditions as EC\n",
    "from selenium.webdriver.common.by import By\n",
    "from selenium.webdriver.remote.webelement import WebElement\n",
    "from selenium.webdriver.chrome.options import Options\n",
    "import time\n",
    "import os"
   ]
  },
  {
   "cell_type": "code",
   "execution_count": 23,
   "id": "a2a39f29-2080-4c2c-9706-42d15201c84f",
   "metadata": {
    "tags": []
   },
   "outputs": [],
   "source": [
    "urls = ['https://www.quillmag.com/2021/03/22/10-with-dujuan-mccoy/',\n",
    "        'https://sdbn.org/events/2020/10/19/sdee-november-happy-hour-nov-19-2020/',\n",
    "        'https://www.opencompanyhongkong.com/fintech-investments-in-hong-kong-on-the-rise','https://www.relectrify.com/newsblog/relectrify-attracts-global-syndicate-led-by-energy-innovation-capital-to-fund-growth'\n",
    ",'https://startupsd.org/eir-program/'\n",
    ",'https://www.cherrycreekfashion.com/issue/shana-colbin-dunn-true-kismet-luna-and-jasper'\n",
    ",'https://euromed-economists.org/investmed-call-for-trainees-in-sustainable-business-management-in-egypt-lebanon-and-tunisia/'\n",
    ",'https://newcastlestartupweek.com/5starfocus/'\n",
    ",'https://locumstory.com/spotlight/webinar-finding-life-balance-with-locums/'\n",
    ",'https://www.specialarabia.com/en/details/BEAUTY/Huda-Kattan-Is-Making-Feminine-Care-Smart-and-Sexy'\n",
    ",'https://vino-joy.com/2021/07/08/chinas-vivino-toasts-deal-with-wechat/'\n",
    ",'https://futurefamilyoffice.net/news/financial-group-launches-global-family-office/'\n",
    ",'https://industrieafrica.com/collections/okapi'\n",
    ",'https://www.mobilemarketingreads.com/duolingo-raises-35-million-at-a-2-4-billion-valuation/'\n",
    ",'https://www.totesavvy.com/blogs/inside-totesavvy/whats-in-my-bag-denitra-burnett']"
   ]
  },
  {
   "cell_type": "code",
   "execution_count": 87,
   "id": "fde6eafa-099c-4da3-8315-1e9695c1c9bc",
   "metadata": {},
   "outputs": [],
   "source": [
    "user_data_path = os.path.dirname(os.path.abspath('__file__'))+'\\\\User_Data'\n",
    "options_chrome = Options()\n",
    "options_chrome.add_argument(f\"user-data-dir={user_data_path}\")"
   ]
  },
  {
   "cell_type": "code",
   "execution_count": 25,
   "id": "c260d5ef-325a-4711-9f0a-9f67b8bd9208",
   "metadata": {},
   "outputs": [],
   "source": [
    "def selenium_extract_face_link(url):\n",
    "    global driver \n",
    "    driver = webdriver.Chrome()\n",
    "    driver.get(url)\n",
    "    WebDriverWait(driver, 4).until(EC.presence_of_element_located((By.CSS_SELECTOR, facebook_css)))\n",
    "    empresa = driver.page_source\n",
    "    soup_emp = BeautifulSoup(empresa, 'lxml')\n",
    "    return soup_emp"
   ]
  },
  {
   "cell_type": "code",
   "execution_count": 26,
   "id": "1c0d0c86-cb18-41cd-8821-7105f5eec2d7",
   "metadata": {},
   "outputs": [],
   "source": [
    "def RodoBot_extract_fbs(urls):   \n",
    "    feisbucs=[]\n",
    "    facebook_css = '[href*=\"facebook.com/\"]:not([href*=\"facebook.com/sharer\"])'\n",
    "    \n",
    "    for url in urls:\n",
    "        print(url)\n",
    "        try:\n",
    "            empresa = requests.get(url)\n",
    "            soup_emp = BeautifulSoup(empresa.content, 'lxml')\n",
    "            face_link= soup_emp.select(facebook_css)\n",
    "            \n",
    "            if len(face_link) > 0: feisbucs.append(face_link[0]['href'])\n",
    "            else: raise Exception(\"No Facebook link found\")\n",
    "        except:\n",
    "            try:\n",
    "                face_link= selenium_extract_face_link(url).select(facebook_css) \n",
    "                feisbucs.append(face_link[0]['href'])\n",
    "                driver.quit()\n",
    "            except:\n",
    "                driver.quit()\n",
    "                try:\n",
    "                        face_link= selenium_extract_face_link(url).select(facebook_css) \n",
    "                        feisbucs.append(face_link[0]['href'])\n",
    "                except:\n",
    "                        feisbucs.append('')\n",
    "                finally:\n",
    "                    driver.quit()\n",
    "    return feisbucs"
   ]
  },
  {
   "cell_type": "markdown",
   "id": "ee075eaa-4150-4038-9656-d53c58c3e688",
   "metadata": {},
   "source": [
    "### Get email from facebook ###"
   ]
  },
  {
   "cell_type": "code",
   "execution_count": 18,
   "id": "021e65ed-2f60-4317-9dac-d26a16b09dbf",
   "metadata": {
    "collapsed": true,
    "jupyter": {
     "outputs_hidden": true
    },
    "tags": []
   },
   "outputs": [
    {
     "ename": "WebDriverException",
     "evalue": "Message: unknown error: cannot determine loading status\nfrom disconnected: received Inspector.detached event\n  (Session info: chrome=96.0.4664.45)\nStacktrace:\nBacktrace:\n\tOrdinal0 [0x007906F3+2492147]\n\tOrdinal0 [0x00729BD1+2071505]\n\tOrdinal0 [0x00632478+1057912]\n\tOrdinal0 [0x006258A4+1005732]\n\tOrdinal0 [0x006254E6+1004774]\n\tOrdinal0 [0x00624BB8+1002424]\n\tOrdinal0 [0x00623D4D+998733]\n\tOrdinal0 [0x00624117+999703]\n\tOrdinal0 [0x0062ED91+1043857]\n\tOrdinal0 [0x006252B2+1004210]\n\tOrdinal0 [0x00625EB2+1007282]\n\tOrdinal0 [0x006254FA+1004794]\n\tOrdinal0 [0x00624BB8+1002424]\n\tOrdinal0 [0x00623D4D+998733]\n\tOrdinal0 [0x00624006+999430]\n\tOrdinal0 [0x00633A4A+1063498]\n\tOrdinal0 [0x006854BD+1397949]\n\tOrdinal0 [0x006757C3+1333187]\n\tOrdinal0 [0x00684F38+1396536]\n\tOrdinal0 [0x0067568B+1332875]\n\tOrdinal0 [0x006521D4+1188308]\n\tOrdinal0 [0x0065302F+1191983]\n\tGetHandleVerifier [0x009167A6+1545030]\n\tGetHandleVerifier [0x009C105C+2243580]\n\tGetHandleVerifier [0x0081BC97+518199]\n\tGetHandleVerifier [0x0081AD80+514336]\n\tOrdinal0 [0x0072ED2D+2092333]\n\tOrdinal0 [0x00732EE8+2109160]\n\tOrdinal0 [0x00733022+2109474]\n\tOrdinal0 [0x0073CB71+2149233]\n\tBaseThreadInitThunk [0x76A2FA29+25]\n\tRtlGetAppContainerNamedObjectPath [0x77AB7A9E+286]\n\tRtlGetAppContainerNamedObjectPath [0x77AB7A6E+238]\n",
     "output_type": "error",
     "traceback": [
      "\u001b[1;31m---------------------------------------------------------------------------\u001b[0m",
      "\u001b[1;31mWebDriverException\u001b[0m                        Traceback (most recent call last)",
      "\u001b[1;32m~\\AppData\\Local\\Temp/ipykernel_10784/4032434740.py\u001b[0m in \u001b[0;36m<module>\u001b[1;34m\u001b[0m\n\u001b[0;32m      1\u001b[0m \u001b[0mdriver\u001b[0m \u001b[1;33m=\u001b[0m \u001b[0mwebdriver\u001b[0m\u001b[1;33m.\u001b[0m\u001b[0mChrome\u001b[0m\u001b[1;33m(\u001b[0m\u001b[0moptions\u001b[0m\u001b[1;33m=\u001b[0m\u001b[0moptions_chrome\u001b[0m\u001b[1;33m)\u001b[0m\u001b[1;33m\u001b[0m\u001b[1;33m\u001b[0m\u001b[0m\n\u001b[1;32m----> 2\u001b[1;33m \u001b[0mdriver\u001b[0m\u001b[1;33m.\u001b[0m\u001b[0mget\u001b[0m\u001b[1;33m(\u001b[0m\u001b[1;34m'https://www.facebook.com/relectrify/'\u001b[0m\u001b[1;33m)\u001b[0m\u001b[1;33m\u001b[0m\u001b[1;33m\u001b[0m\u001b[0m\n\u001b[0m\u001b[0;32m      3\u001b[0m \u001b[0mtime\u001b[0m\u001b[1;33m.\u001b[0m\u001b[0msleep\u001b[0m\u001b[1;33m(\u001b[0m\u001b[1;36m3\u001b[0m\u001b[1;33m)\u001b[0m\u001b[1;33m\u001b[0m\u001b[1;33m\u001b[0m\u001b[0m\n\u001b[0;32m      4\u001b[0m \u001b[1;31m#driver.close()\u001b[0m\u001b[1;33m\u001b[0m\u001b[1;33m\u001b[0m\u001b[0m\n",
      "\u001b[1;32m~\\AppData\\Local\\Programs\\Python\\Python39\\lib\\site-packages\\selenium\\webdriver\\remote\\webdriver.py\u001b[0m in \u001b[0;36mget\u001b[1;34m(self, url)\u001b[0m\n\u001b[0;32m    428\u001b[0m         \u001b[0mLoads\u001b[0m \u001b[0ma\u001b[0m \u001b[0mweb\u001b[0m \u001b[0mpage\u001b[0m \u001b[1;32min\u001b[0m \u001b[0mthe\u001b[0m \u001b[0mcurrent\u001b[0m \u001b[0mbrowser\u001b[0m \u001b[0msession\u001b[0m\u001b[1;33m.\u001b[0m\u001b[1;33m\u001b[0m\u001b[1;33m\u001b[0m\u001b[0m\n\u001b[0;32m    429\u001b[0m         \"\"\"\n\u001b[1;32m--> 430\u001b[1;33m         \u001b[0mself\u001b[0m\u001b[1;33m.\u001b[0m\u001b[0mexecute\u001b[0m\u001b[1;33m(\u001b[0m\u001b[0mCommand\u001b[0m\u001b[1;33m.\u001b[0m\u001b[0mGET\u001b[0m\u001b[1;33m,\u001b[0m \u001b[1;33m{\u001b[0m\u001b[1;34m'url'\u001b[0m\u001b[1;33m:\u001b[0m \u001b[0murl\u001b[0m\u001b[1;33m}\u001b[0m\u001b[1;33m)\u001b[0m\u001b[1;33m\u001b[0m\u001b[1;33m\u001b[0m\u001b[0m\n\u001b[0m\u001b[0;32m    431\u001b[0m \u001b[1;33m\u001b[0m\u001b[0m\n\u001b[0;32m    432\u001b[0m     \u001b[1;33m@\u001b[0m\u001b[0mproperty\u001b[0m\u001b[1;33m\u001b[0m\u001b[1;33m\u001b[0m\u001b[0m\n",
      "\u001b[1;32m~\\AppData\\Local\\Programs\\Python\\Python39\\lib\\site-packages\\selenium\\webdriver\\remote\\webdriver.py\u001b[0m in \u001b[0;36mexecute\u001b[1;34m(self, driver_command, params)\u001b[0m\n\u001b[0;32m    416\u001b[0m         \u001b[0mresponse\u001b[0m \u001b[1;33m=\u001b[0m \u001b[0mself\u001b[0m\u001b[1;33m.\u001b[0m\u001b[0mcommand_executor\u001b[0m\u001b[1;33m.\u001b[0m\u001b[0mexecute\u001b[0m\u001b[1;33m(\u001b[0m\u001b[0mdriver_command\u001b[0m\u001b[1;33m,\u001b[0m \u001b[0mparams\u001b[0m\u001b[1;33m)\u001b[0m\u001b[1;33m\u001b[0m\u001b[1;33m\u001b[0m\u001b[0m\n\u001b[0;32m    417\u001b[0m         \u001b[1;32mif\u001b[0m \u001b[0mresponse\u001b[0m\u001b[1;33m:\u001b[0m\u001b[1;33m\u001b[0m\u001b[1;33m\u001b[0m\u001b[0m\n\u001b[1;32m--> 418\u001b[1;33m             \u001b[0mself\u001b[0m\u001b[1;33m.\u001b[0m\u001b[0merror_handler\u001b[0m\u001b[1;33m.\u001b[0m\u001b[0mcheck_response\u001b[0m\u001b[1;33m(\u001b[0m\u001b[0mresponse\u001b[0m\u001b[1;33m)\u001b[0m\u001b[1;33m\u001b[0m\u001b[1;33m\u001b[0m\u001b[0m\n\u001b[0m\u001b[0;32m    419\u001b[0m             response['value'] = self._unwrap_value(\n\u001b[0;32m    420\u001b[0m                 response.get('value', None))\n",
      "\u001b[1;32m~\\AppData\\Local\\Programs\\Python\\Python39\\lib\\site-packages\\selenium\\webdriver\\remote\\errorhandler.py\u001b[0m in \u001b[0;36mcheck_response\u001b[1;34m(self, response)\u001b[0m\n\u001b[0;32m    241\u001b[0m                 \u001b[0malert_text\u001b[0m \u001b[1;33m=\u001b[0m \u001b[0mvalue\u001b[0m\u001b[1;33m[\u001b[0m\u001b[1;34m'alert'\u001b[0m\u001b[1;33m]\u001b[0m\u001b[1;33m.\u001b[0m\u001b[0mget\u001b[0m\u001b[1;33m(\u001b[0m\u001b[1;34m'text'\u001b[0m\u001b[1;33m)\u001b[0m\u001b[1;33m\u001b[0m\u001b[1;33m\u001b[0m\u001b[0m\n\u001b[0;32m    242\u001b[0m             \u001b[1;32mraise\u001b[0m \u001b[0mexception_class\u001b[0m\u001b[1;33m(\u001b[0m\u001b[0mmessage\u001b[0m\u001b[1;33m,\u001b[0m \u001b[0mscreen\u001b[0m\u001b[1;33m,\u001b[0m \u001b[0mstacktrace\u001b[0m\u001b[1;33m,\u001b[0m \u001b[0malert_text\u001b[0m\u001b[1;33m)\u001b[0m  \u001b[1;31m# type: ignore[call-arg]  # mypy is not smart enough here\u001b[0m\u001b[1;33m\u001b[0m\u001b[1;33m\u001b[0m\u001b[0m\n\u001b[1;32m--> 243\u001b[1;33m         \u001b[1;32mraise\u001b[0m \u001b[0mexception_class\u001b[0m\u001b[1;33m(\u001b[0m\u001b[0mmessage\u001b[0m\u001b[1;33m,\u001b[0m \u001b[0mscreen\u001b[0m\u001b[1;33m,\u001b[0m \u001b[0mstacktrace\u001b[0m\u001b[1;33m)\u001b[0m\u001b[1;33m\u001b[0m\u001b[1;33m\u001b[0m\u001b[0m\n\u001b[0m\u001b[0;32m    244\u001b[0m \u001b[1;33m\u001b[0m\u001b[0m\n\u001b[0;32m    245\u001b[0m     \u001b[1;32mdef\u001b[0m \u001b[0m_value_or_default\u001b[0m\u001b[1;33m(\u001b[0m\u001b[0mself\u001b[0m\u001b[1;33m,\u001b[0m \u001b[0mobj\u001b[0m\u001b[1;33m:\u001b[0m \u001b[0mMapping\u001b[0m\u001b[1;33m[\u001b[0m\u001b[0m_KT\u001b[0m\u001b[1;33m,\u001b[0m \u001b[0m_VT\u001b[0m\u001b[1;33m]\u001b[0m\u001b[1;33m,\u001b[0m \u001b[0mkey\u001b[0m\u001b[1;33m:\u001b[0m \u001b[0m_KT\u001b[0m\u001b[1;33m,\u001b[0m \u001b[0mdefault\u001b[0m\u001b[1;33m:\u001b[0m \u001b[0m_VT\u001b[0m\u001b[1;33m)\u001b[0m \u001b[1;33m->\u001b[0m \u001b[0m_VT\u001b[0m\u001b[1;33m:\u001b[0m\u001b[1;33m\u001b[0m\u001b[1;33m\u001b[0m\u001b[0m\n",
      "\u001b[1;31mWebDriverException\u001b[0m: Message: unknown error: cannot determine loading status\nfrom disconnected: received Inspector.detached event\n  (Session info: chrome=96.0.4664.45)\nStacktrace:\nBacktrace:\n\tOrdinal0 [0x007906F3+2492147]\n\tOrdinal0 [0x00729BD1+2071505]\n\tOrdinal0 [0x00632478+1057912]\n\tOrdinal0 [0x006258A4+1005732]\n\tOrdinal0 [0x006254E6+1004774]\n\tOrdinal0 [0x00624BB8+1002424]\n\tOrdinal0 [0x00623D4D+998733]\n\tOrdinal0 [0x00624117+999703]\n\tOrdinal0 [0x0062ED91+1043857]\n\tOrdinal0 [0x006252B2+1004210]\n\tOrdinal0 [0x00625EB2+1007282]\n\tOrdinal0 [0x006254FA+1004794]\n\tOrdinal0 [0x00624BB8+1002424]\n\tOrdinal0 [0x00623D4D+998733]\n\tOrdinal0 [0x00624006+999430]\n\tOrdinal0 [0x00633A4A+1063498]\n\tOrdinal0 [0x006854BD+1397949]\n\tOrdinal0 [0x006757C3+1333187]\n\tOrdinal0 [0x00684F38+1396536]\n\tOrdinal0 [0x0067568B+1332875]\n\tOrdinal0 [0x006521D4+1188308]\n\tOrdinal0 [0x0065302F+1191983]\n\tGetHandleVerifier [0x009167A6+1545030]\n\tGetHandleVerifier [0x009C105C+2243580]\n\tGetHandleVerifier [0x0081BC97+518199]\n\tGetHandleVerifier [0x0081AD80+514336]\n\tOrdinal0 [0x0072ED2D+2092333]\n\tOrdinal0 [0x00732EE8+2109160]\n\tOrdinal0 [0x00733022+2109474]\n\tOrdinal0 [0x0073CB71+2149233]\n\tBaseThreadInitThunk [0x76A2FA29+25]\n\tRtlGetAppContainerNamedObjectPath [0x77AB7A9E+286]\n\tRtlGetAppContainerNamedObjectPath [0x77AB7A6E+238]\n"
     ]
    }
   ],
   "source": [
    "driver = webdriver.Chrome(options=options_chrome)\n",
    "driver.get('https://www.facebook.com/relectrify/')\n",
    "time.sleep(3)\n",
    "#driver.close()"
   ]
  },
  {
   "cell_type": "code",
   "execution_count": 59,
   "id": "62504e95-787b-44eb-a5b6-a6a1ba4016fa",
   "metadata": {
    "tags": []
   },
   "outputs": [
    {
     "data": {
      "text/plain": [
       "'info@relectrify.com'"
      ]
     },
     "execution_count": 59,
     "metadata": {},
     "output_type": "execute_result"
    }
   ],
   "source": [
    "facebook_page = driver.page_source\n",
    "soup_facebook_page = BeautifulSoup(facebook_page, 'lxml')\n",
    "email_class = re.sub(' ','.','oajrlxb2 g5ia77u1 qu0x051f esr5mh6w e9989ue4 r7d6kgcz rq0escxv nhd2j8a9 nc684nl6 p7hjln8o kvgmc6g5 cxmmr5t8 oygrvhab hcukyx3x jb3vyjys rz4wbd8a qt6c0cv9 a8nywdso i1ao9s8h esuyzwwr f1sip0of lzcic4wl py34i1dx gpro0wi8')\n",
    "email_address = soup_facebook_page.select(f'a.{email_class}[href^=\"mailto:\"]')\n",
    "email_address[0].text"
   ]
  },
  {
   "cell_type": "code",
   "execution_count": 135,
   "id": "66c283b1-ca31-4711-8cfa-f1c5da71b687",
   "metadata": {},
   "outputs": [],
   "source": [
    "def RodoBot_get_contact_from_fb_page(fb_links):\n",
    "    contact_emails=[]\n",
    "    driver = webdriver.Chrome(options=options_chrome)\n",
    "    email_class = re.sub(' ','.','oajrlxb2 g5ia77u1 qu0x051f esr5mh6w e9989ue4 r7d6kgcz rq0escxv nhd2j8a9 nc684nl6 p7hjln8o kvgmc6g5 cxmmr5t8 oygrvhab hcukyx3x jb3vyjys rz4wbd8a qt6c0cv9 a8nywdso i1ao9s8h esuyzwwr f1sip0of lzcic4wl py34i1dx gpro0wi8')\n",
    "    contact_email_css = f'a.{email_class}[href^=\"mailto:\"]'\n",
    "    \n",
    "    for fb_link in fb_links:\n",
    "        if fb_link == '': contact_emails.append('')\n",
    "        else:\n",
    "            try:\n",
    "                driver.get(fb_link)\n",
    "                WebDriverWait(driver, 4).until(EC.presence_of_element_located((By.CSS_SELECTOR, contact_email_css)))\n",
    "                facebook_page = driver.page_source\n",
    "                soup_facebook_page = BeautifulSoup(facebook_page, 'lxml')\n",
    "                email_address = soup_facebook_page.select(contact_email_css)\n",
    "                if email_address: contact_emails.append(email_address[0].text)\n",
    "            except:\n",
    "                driver.quit()\n",
    "                try:\n",
    "                    driver = webdriver.Chrome(options=options_chrome)\n",
    "                    driver.get(fb_link)\n",
    "                    WebDriverWait(driver, 4).until(EC.presence_of_element_located((By.CSS_SELECTOR, contact_email_css)))\n",
    "                    facebook_page = driver.page_source\n",
    "                    soup_facebook_page = BeautifulSoup(facebook_page, 'lxml')\n",
    "                    email_address = soup_facebook_page.select(contact_email_css)\n",
    "                    if email_address: contact_emails.append(email_address[0].text)\n",
    "                except:\n",
    "                    contact_emails.append('')\n",
    "                \n",
    "    driver.quit()\n",
    "    return contact_emails"
   ]
  },
  {
   "cell_type": "code",
   "execution_count": 137,
   "id": "57ed4d17-fa9c-4157-9bb7-6de535f0f823",
   "metadata": {},
   "outputs": [
    {
     "data": {
      "text/html": [
       "<div>\n",
       "<style scoped>\n",
       "    .dataframe tbody tr th:only-of-type {\n",
       "        vertical-align: middle;\n",
       "    }\n",
       "\n",
       "    .dataframe tbody tr th {\n",
       "        vertical-align: top;\n",
       "    }\n",
       "\n",
       "    .dataframe thead th {\n",
       "        text-align: right;\n",
       "    }\n",
       "</style>\n",
       "<table border=\"1\" class=\"dataframe\">\n",
       "  <thead>\n",
       "    <tr style=\"text-align: right;\">\n",
       "      <th></th>\n",
       "      <th>URL</th>\n",
       "      <th>Facebook</th>\n",
       "      <th>Contact Emails</th>\n",
       "    </tr>\n",
       "  </thead>\n",
       "  <tbody>\n",
       "    <tr>\n",
       "      <th>0</th>\n",
       "      <td>https://www.quillmag.com/2021/03/22/10-with-du...</td>\n",
       "      <td>https://www.facebook.com/pages/Society-of-Prof...</td>\n",
       "      <td>communications@spj.org</td>\n",
       "    </tr>\n",
       "    <tr>\n",
       "      <th>1</th>\n",
       "      <td>https://sdbn.org/events/2020/10/19/sdee-novemb...</td>\n",
       "      <td></td>\n",
       "      <td></td>\n",
       "    </tr>\n",
       "    <tr>\n",
       "      <th>2</th>\n",
       "      <td>https://www.opencompanyhongkong.com/fintech-in...</td>\n",
       "      <td>https://www.facebook.com/pages/Lawyers-in-Hong...</td>\n",
       "      <td>office@opencompanyhongkong.com</td>\n",
       "    </tr>\n",
       "    <tr>\n",
       "      <th>3</th>\n",
       "      <td>https://www.relectrify.com/newsblog/relectrify...</td>\n",
       "      <td>https://www.facebook.com/relectrify/</td>\n",
       "      <td>info@relectrify.com</td>\n",
       "    </tr>\n",
       "    <tr>\n",
       "      <th>4</th>\n",
       "      <td>https://startupsd.org/eir-program/</td>\n",
       "      <td>https://facebook.com/startupsd</td>\n",
       "      <td></td>\n",
       "    </tr>\n",
       "    <tr>\n",
       "      <th>5</th>\n",
       "      <td>https://www.cherrycreekfashion.com/issue/shana...</td>\n",
       "      <td></td>\n",
       "      <td></td>\n",
       "    </tr>\n",
       "    <tr>\n",
       "      <th>6</th>\n",
       "      <td>https://euromed-economists.org/investmed-call-...</td>\n",
       "      <td>https://www.facebook.com/EMEA.org/</td>\n",
       "      <td></td>\n",
       "    </tr>\n",
       "    <tr>\n",
       "      <th>7</th>\n",
       "      <td>https://newcastlestartupweek.com/5starfocus/</td>\n",
       "      <td>https://www.facebook.com/NewcastleStartupWeek/</td>\n",
       "      <td>paul@newcastlestartupweek.com</td>\n",
       "    </tr>\n",
       "    <tr>\n",
       "      <th>8</th>\n",
       "      <td>https://locumstory.com/spotlight/webinar-findi...</td>\n",
       "      <td>https://www.facebook.com/locumstory/</td>\n",
       "      <td></td>\n",
       "    </tr>\n",
       "    <tr>\n",
       "      <th>9</th>\n",
       "      <td>https://www.specialarabia.com/en/details/BEAUT...</td>\n",
       "      <td>https://www.facebook.com/SPECIAL-MAGAZINE-9992...</td>\n",
       "      <td>info@specialmagazine.co</td>\n",
       "    </tr>\n",
       "    <tr>\n",
       "      <th>10</th>\n",
       "      <td>https://vino-joy.com/2021/07/08/chinas-vivino-...</td>\n",
       "      <td>https://www.facebook.com/VinoJoyNews/</td>\n",
       "      <td>info.vinojoy@gmail.com</td>\n",
       "    </tr>\n",
       "    <tr>\n",
       "      <th>11</th>\n",
       "      <td>https://futurefamilyoffice.net/news/financial-...</td>\n",
       "      <td>https://www.facebook.com/Future-111511173824711/</td>\n",
       "      <td>hi@futurefamilyoffice.net</td>\n",
       "    </tr>\n",
       "    <tr>\n",
       "      <th>12</th>\n",
       "      <td>https://industrieafrica.com/collections/okapi</td>\n",
       "      <td>https://www.facebook.com/industrieafrica/</td>\n",
       "      <td>info@industrieafrica.com</td>\n",
       "    </tr>\n",
       "    <tr>\n",
       "      <th>13</th>\n",
       "      <td>https://www.mobilemarketingreads.com/duolingo-...</td>\n",
       "      <td></td>\n",
       "      <td></td>\n",
       "    </tr>\n",
       "    <tr>\n",
       "      <th>14</th>\n",
       "      <td>https://www.totesavvy.com/blogs/inside-totesav...</td>\n",
       "      <td>https://www.facebook.com/lifeinplaycompany</td>\n",
       "      <td>support@lifeinplaycompany.com</td>\n",
       "    </tr>\n",
       "  </tbody>\n",
       "</table>\n",
       "</div>"
      ],
      "text/plain": [
       "                                                  URL  \\\n",
       "0   https://www.quillmag.com/2021/03/22/10-with-du...   \n",
       "1   https://sdbn.org/events/2020/10/19/sdee-novemb...   \n",
       "2   https://www.opencompanyhongkong.com/fintech-in...   \n",
       "3   https://www.relectrify.com/newsblog/relectrify...   \n",
       "4                  https://startupsd.org/eir-program/   \n",
       "5   https://www.cherrycreekfashion.com/issue/shana...   \n",
       "6   https://euromed-economists.org/investmed-call-...   \n",
       "7        https://newcastlestartupweek.com/5starfocus/   \n",
       "8   https://locumstory.com/spotlight/webinar-findi...   \n",
       "9   https://www.specialarabia.com/en/details/BEAUT...   \n",
       "10  https://vino-joy.com/2021/07/08/chinas-vivino-...   \n",
       "11  https://futurefamilyoffice.net/news/financial-...   \n",
       "12      https://industrieafrica.com/collections/okapi   \n",
       "13  https://www.mobilemarketingreads.com/duolingo-...   \n",
       "14  https://www.totesavvy.com/blogs/inside-totesav...   \n",
       "\n",
       "                                             Facebook  \\\n",
       "0   https://www.facebook.com/pages/Society-of-Prof...   \n",
       "1                                                       \n",
       "2   https://www.facebook.com/pages/Lawyers-in-Hong...   \n",
       "3                https://www.facebook.com/relectrify/   \n",
       "4                      https://facebook.com/startupsd   \n",
       "5                                                       \n",
       "6                  https://www.facebook.com/EMEA.org/   \n",
       "7      https://www.facebook.com/NewcastleStartupWeek/   \n",
       "8                https://www.facebook.com/locumstory/   \n",
       "9   https://www.facebook.com/SPECIAL-MAGAZINE-9992...   \n",
       "10              https://www.facebook.com/VinoJoyNews/   \n",
       "11   https://www.facebook.com/Future-111511173824711/   \n",
       "12          https://www.facebook.com/industrieafrica/   \n",
       "13                                                      \n",
       "14         https://www.facebook.com/lifeinplaycompany   \n",
       "\n",
       "                    Contact Emails  \n",
       "0           communications@spj.org  \n",
       "1                                   \n",
       "2   office@opencompanyhongkong.com  \n",
       "3              info@relectrify.com  \n",
       "4                                   \n",
       "5                                   \n",
       "6                                   \n",
       "7    paul@newcastlestartupweek.com  \n",
       "8                                   \n",
       "9          info@specialmagazine.co  \n",
       "10          info.vinojoy@gmail.com  \n",
       "11       hi@futurefamilyoffice.net  \n",
       "12        info@industrieafrica.com  \n",
       "13                                  \n",
       "14   support@lifeinplaycompany.com  "
      ]
     },
     "execution_count": 137,
     "metadata": {},
     "output_type": "execute_result"
    }
   ],
   "source": [
    "links = pd.DataFrame(zip(urls,feisbucs,contact_emails), columns=['URL','Facebook','Contact Emails'])\n",
    "links"
   ]
  },
  {
   "cell_type": "code",
   "execution_count": 27,
   "id": "0cd5b31c-1981-402a-b7ce-b444b46a7ad2",
   "metadata": {
    "collapsed": true,
    "jupyter": {
     "outputs_hidden": true
    },
    "tags": []
   },
   "outputs": [
    {
     "name": "stdout",
     "output_type": "stream",
     "text": [
      "https://www.quillmag.com/2021/03/22/10-with-dujuan-mccoy/\n",
      "https://sdbn.org/events/2020/10/19/sdee-november-happy-hour-nov-19-2020/\n",
      "https://www.opencompanyhongkong.com/fintech-investments-in-hong-kong-on-the-rise\n",
      "https://www.relectrify.com/newsblog/relectrify-attracts-global-syndicate-led-by-energy-innovation-capital-to-fund-growth\n",
      "https://startupsd.org/eir-program/\n",
      "https://www.cherrycreekfashion.com/issue/shana-colbin-dunn-true-kismet-luna-and-jasper\n",
      "https://euromed-economists.org/investmed-call-for-trainees-in-sustainable-business-management-in-egypt-lebanon-and-tunisia/\n",
      "https://newcastlestartupweek.com/5starfocus/\n",
      "https://locumstory.com/spotlight/webinar-finding-life-balance-with-locums/\n",
      "https://www.specialarabia.com/en/details/BEAUTY/Huda-Kattan-Is-Making-Feminine-Care-Smart-and-Sexy\n",
      "https://vino-joy.com/2021/07/08/chinas-vivino-toasts-deal-with-wechat/\n",
      "https://futurefamilyoffice.net/news/financial-group-launches-global-family-office/\n",
      "https://industrieafrica.com/collections/okapi\n",
      "https://www.mobilemarketingreads.com/duolingo-raises-35-million-at-a-2-4-billion-valuation/\n",
      "https://www.totesavvy.com/blogs/inside-totesavvy/whats-in-my-bag-denitra-burnett\n"
     ]
    }
   ],
   "source": [
    "feisbucs = RodoBot_extract_fbs(urls)"
   ]
  },
  {
   "cell_type": "code",
   "execution_count": 29,
   "id": "7004b7c3-f804-4773-9d7a-55fb73ea37fa",
   "metadata": {
    "collapsed": true,
    "jupyter": {
     "outputs_hidden": true
    },
    "tags": []
   },
   "outputs": [
    {
     "data": {
      "text/plain": [
       "['https://www.facebook.com/pages/Society-of-Professional-Journalists/166414942968',\n",
       " '',\n",
       " 'https://www.facebook.com/pages/Lawyers-in-Hong-Kong/778584812178154',\n",
       " 'https://www.facebook.com/relectrify/',\n",
       " 'https://facebook.com/startupsd',\n",
       " '',\n",
       " 'https://www.facebook.com/EMEA.org/',\n",
       " 'https://www.facebook.com/NewcastleStartupWeek/',\n",
       " 'https://www.facebook.com/locumstory/',\n",
       " 'https://www.facebook.com/SPECIAL-MAGAZINE-9992066780/',\n",
       " 'https://www.facebook.com/VinoJoyNews/',\n",
       " 'https://www.facebook.com/Future-111511173824711/',\n",
       " 'https://www.facebook.com/industrieafrica/',\n",
       " '',\n",
       " 'https://www.facebook.com/lifeinplaycompany']"
      ]
     },
     "execution_count": 29,
     "metadata": {},
     "output_type": "execute_result"
    }
   ],
   "source": [
    "feisbucs"
   ]
  },
  {
   "cell_type": "code",
   "execution_count": 136,
   "id": "a6398486-c71e-4783-9c33-c6ba9294131c",
   "metadata": {},
   "outputs": [],
   "source": [
    "contact_emails = RodoBot_get_contact_from_fb_page(feisbucs)"
   ]
  },
  {
   "cell_type": "code",
   "execution_count": 134,
   "id": "77341910-12b6-4687-9754-a93151b8fab6",
   "metadata": {},
   "outputs": [
    {
     "data": {
      "text/plain": [
       "['communications@spj.org',\n",
       " '',\n",
       " 'office@opencompanyhongkong.com',\n",
       " 'info@relectrify.com',\n",
       " '',\n",
       " '',\n",
       " '',\n",
       " 'paul@newcastlestartupweek.com',\n",
       " '',\n",
       " 'info@specialmagazine.co',\n",
       " 'info.vinojoy@gmail.com',\n",
       " 'hi@futurefamilyoffice.net',\n",
       " 'info@industrieafrica.com',\n",
       " '',\n",
       " 'support@lifeinplaycompany.com']"
      ]
     },
     "execution_count": 134,
     "metadata": {},
     "output_type": "execute_result"
    }
   ],
   "source": [
    "contact_emails"
   ]
  },
  {
   "cell_type": "code",
   "execution_count": 131,
   "id": "700ccbcc-10e1-4090-8bf6-5141dff8744f",
   "metadata": {},
   "outputs": [
    {
     "name": "stdout",
     "output_type": "stream",
     "text": [
      "a\n"
     ]
    }
   ],
   "source": [
    "a = [1,2,'sdfsfd']\n",
    "if a:\n",
    "    print('a')"
   ]
  },
  {
   "cell_type": "code",
   "execution_count": null,
   "id": "19b9caad-abbf-4d49-8555-0064d1a98ae5",
   "metadata": {},
   "outputs": [],
   "source": []
  }
 ],
 "metadata": {
  "kernelspec": {
   "display_name": "Python 3 (ipykernel)",
   "language": "python",
   "name": "python3"
  },
  "language_info": {
   "codemirror_mode": {
    "name": "ipython",
    "version": 3
   },
   "file_extension": ".py",
   "mimetype": "text/x-python",
   "name": "python",
   "nbconvert_exporter": "python",
   "pygments_lexer": "ipython3",
   "version": "3.9.7"
  }
 },
 "nbformat": 4,
 "nbformat_minor": 5
}
